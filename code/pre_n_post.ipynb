{
 "cells": [
  {
   "cell_type": "code",
   "execution_count": 1,
   "id": "f8a60767",
   "metadata": {},
   "outputs": [],
   "source": [
    "import csv\n",
    "import glob\n",
    "import os\n",
    "import cv2"
   ]
  },
  {
   "cell_type": "code",
   "execution_count": null,
   "id": "5c00e0ca",
   "metadata": {},
   "outputs": [],
   "source": [
    "nuclei_files = glob.glob(\"Downloads/ovary_pre_nact_nuclei_masks_stroma/*\")\n",
    "til_files = glob.glob(\"Downloads/ovary_pre_nact_til_masks_stroma/*\")\n",
    "print(len(nuclei_files))\n",
    "print(len(til_files))"
   ]
  },
  {
   "cell_type": "code",
   "execution_count": null,
   "id": "45b79c35",
   "metadata": {},
   "outputs": [],
   "source": [
    "count_nuclei = 0\n",
    "count_til = 0\n",
    "for f_n in nuclei_files:\n",
    "    filename = f_n.split(\"/\")[-1]\n",
    "    if \"PBC-PR-1266_\" in filename:\n",
    "        file_nuclei = cv2.imread(f_n, 0)\n",
    "        file_til = cv2.imread(\"Downloads/ovary_pre_nact_til_masks_stroma/\"+filename, 0)\n",
    "    \n",
    "        count_nuclei += sum(sum(file_nuclei>0))\n",
    "        count_til += sum(sum(file_til>0))\n",
    "print(count_nuclei)\n",
    "print(count_til)"
   ]
  },
  {
   "cell_type": "code",
   "execution_count": null,
   "id": "2a251648",
   "metadata": {},
   "outputs": [],
   "source": [
    "print(float(count_til)/count_nuclei)"
   ]
  },
  {
   "cell_type": "code",
   "execution_count": null,
   "id": "f6da8d46",
   "metadata": {},
   "outputs": [],
   "source": []
  },
  {
   "cell_type": "code",
   "execution_count": null,
   "id": "d94ded25",
   "metadata": {},
   "outputs": [],
   "source": [
    "nuclei_files = glob.glob(\"Downloads/post_nact_nuclei_masks_2_stroma/*\")\n",
    "til_files = glob.glob(\"Downloads/post_nact_til_masks_2_stroma/*\")\n",
    "print(len(nuclei_files))\n",
    "print(len(til_files))"
   ]
  },
  {
   "cell_type": "code",
   "execution_count": null,
   "id": "13e0f20f",
   "metadata": {},
   "outputs": [],
   "source": [
    "count_nuclei = 0\n",
    "count_til = 0\n",
    "for f_n in nuclei_files:\n",
    "    filename = f_n.split(\"/\")[-1]\n",
    "    if \"20-1-71 H&E_\" in filename:\n",
    "        file_nuclei = cv2.imread(f_n, 0)\n",
    "        file_til = cv2.imread(\"Downloads/post_nact_til_masks_2_stroma/\"+filename, 0)\n",
    "    \n",
    "        if os.path.isfile(\"Downloads/post_nact_til_masks_2_stroma/\"+filename):\n",
    "            count_nuclei += sum(sum(file_nuclei>0))\n",
    "            count_til += sum(sum(file_til>0))\n",
    "print(count_nuclei)\n",
    "print(count_til)"
   ]
  },
  {
   "cell_type": "code",
   "execution_count": null,
   "id": "0f3e8f5f",
   "metadata": {},
   "outputs": [],
   "source": [
    "print(float(count_til)/count_nuclei)"
   ]
  },
  {
   "cell_type": "code",
   "execution_count": null,
   "id": "10661683",
   "metadata": {},
   "outputs": [],
   "source": []
  },
  {
   "cell_type": "code",
   "execution_count": null,
   "id": "8d1aed27",
   "metadata": {},
   "outputs": [],
   "source": [
    "# Pre-NACT: TIL Density\n",
    "\n",
    "# PBC-PR-1266: 0.0384804021952352\n",
    "# PBC-PR-1268: 0.10608754885108443\n",
    "# PBC-PR-1273: 0.15579123034241896\n",
    "# PBC-PR-1275: 0.12287838739302048\n",
    "# PBC-PR-1326: 0.3042560959909727\n",
    "# PBC-PR-1327: 0.058638809366318635\n",
    "# PBC-PR-1333: 0.01170063433258748\n",
    "# PBC-PR-1339: 0.21179875447101332\n",
    "# PBC-PR-1344: 0.09483907343942001\n",
    "# PBC-PR-1347: 0.09038042864873279\n",
    "# PBC-PR-1354: 0.061699237974331175\n",
    "# PBC-PR-1356: 0.0586521518391391\n",
    "\n",
    "\n",
    "# Pre-NACT: Epithelium TIL Density\n",
    "\n",
    "# PBC-PR-1266: 0.006802770866836709\n",
    "# PBC-PR-1268: 0.02117089253405208\n",
    "# PBC-PR-1273: 0.04475246935670294\n",
    "# PBC-PR-1275: 0.01740719612317127\n",
    "# PBC-PR-1326: 0.0877061444161612\n",
    "# PBC-PR-1327: 0.012264371532301348\n",
    "# PBC-PR-1333: 0.0028975944927828283\n",
    "# PBC-PR-1339: 0.0700478441263393\n",
    "# PBC-PR-1344: 0.025723454764472343\n",
    "# PBC-PR-1347: 0.022684690860347762\n",
    "# PBC-PR-1354: 0.008460615631207388\n",
    "# PBC-PR-1356: 0.008097643806310747\n",
    "\n",
    "\n",
    "# Pre-NACT: Stromal TIL Density\n",
    "\n",
    "# PBC-PR-1266: 0.3760969023778392\n",
    "# PBC-PR-1268: 0.428119368388743\n",
    "# PBC-PR-1273: 0.505181929063968\n",
    "# PBC-PR-1275: 0.4836745114003412\n",
    "# PBC-PR-1326: 0.5364684390679232\n",
    "# PBC-PR-1327: 0.34320201033651393\n",
    "# PBC-PR-1333: 0.3920622233152976\n",
    "# PBC-PR-1339: 0.22513277922114636\n",
    "# PBC-PR-1344: 0.1182857350880067\n",
    "# PBC-PR-1347: 0.14275174093307333\n",
    "# PBC-PR-1354: 0.41473244705419654\n",
    "# PBC-PR-1356: 0.4541280374703774\n",
    "\n",
    "\n",
    "# Pre-NACT: Mean Collagen Disorder\n",
    "\n",
    "# PBC-PR-1266: 2.06\n",
    "# PBC-PR-1268: 2.0451\n",
    "# PBC-PR-1273: 2.1788\n",
    "# PBC-PR-1275: 2.1055\n",
    "# PBC-PR-1326: 2.0962\n",
    "# PBC-PR-1327: 2.0099\n",
    "# PBC-PR-1333: 2.01\n",
    "# PBC-PR-1339: 2.1156\n",
    "# PBC-PR-1344: 2.019\n",
    "# PBC-PR-1347: 2.0767\n",
    "# PBC-PR-1354: 2.069\n",
    "# PBC-PR-1356: 2.0803\n",
    "\n",
    "\n",
    "# Pre-NACT: Min Collagen Disorder\n",
    "\n",
    "# PBC-PR-1266: 0.52081\n",
    "# PBC-PR-1268: 0.46587\n",
    "# PBC-PR-1273: 0.88385\n",
    "# PBC-PR-1275: 0.52942\n",
    "# PBC-PR-1326: 0.68302\n",
    "# PBC-PR-1327: 0.33073\n",
    "# PBC-PR-1333: 0.32\n",
    "# PBC-PR-1339: 0.6736\n",
    "# PBC-PR-1344: 0.63955\n",
    "# PBC-PR-1347: 0.83771\n",
    "# PBC-PR-1354: 0.8897\n",
    "# PBC-PR-1356: 0.58926\n",
    "\n",
    "\n",
    "# Pre-NACT: Max Collagen Disorder\n",
    "\n",
    "# PBC-PR-1266: 2.2922\n",
    "# PBC-PR-1268: 2.2964\n",
    "# PBC-PR-1273: 2.2949\n",
    "# PBC-PR-1275: 2.2938\n",
    "# PBC-PR-1326: 2.2885\n",
    "# PBC-PR-1327: 2.2892\n",
    "# PBC-PR-1333: 2.285\n",
    "# PBC-PR-1339: 2.2884\n",
    "# PBC-PR-1344: 2.2892\n",
    "# PBC-PR-1347: 2.2882\n",
    "# PBC-PR-1354: 2.285\n",
    "# PBC-PR-1356: 2.2958\n",
    "\n",
    "\n",
    "# Pre-NACT: Range Collagen Disorder\n",
    "\n",
    "# PBC-PR-1266: 1.7714\n",
    "# PBC-PR-1268: 1.8305\n",
    "# PBC-PR-1273: 1.4111\n",
    "# PBC-PR-1275: 1.7644\n",
    "# PBC-PR-1326: 1.6055\n",
    "# PBC-PR-1327: 1.9584\n",
    "# PBC-PR-1333: 1.965\n",
    "# PBC-PR-1339: 1.6148\n",
    "# PBC-PR-1344: 1.6496\n",
    "# PBC-PR-1347: 1.4505\n",
    "# PBC-PR-1354: 1.1954\n",
    "# PBC-PR-1356: 1.7066"
   ]
  },
  {
   "cell_type": "code",
   "execution_count": null,
   "id": "f3fbe3ad",
   "metadata": {},
   "outputs": [],
   "source": [
    "# TIL density\n",
    "a = np.array([0.12487407655612177, 0.12813985560306965, 0.15261649418512537, 0.1549163689464846, 0.3779001371676269, 0.07452273474178374, 0.09184162554160173, 0.26515286816500163, 0.16810911544980764, 0.356682984305857914, 0.11350386002123657, 0.23359746753168367])\n",
    "print(np.median(a))\n",
    "\n",
    "group = []\n",
    "for index in range(0, len(a)):\n",
    "    if a[index] > np.median(a):\n",
    "        group.append(0)\n",
    "    else:\n",
    "        group.append(1)\n",
    "print(group)"
   ]
  },
  {
   "cell_type": "code",
   "execution_count": null,
   "id": "46958ac7",
   "metadata": {},
   "outputs": [],
   "source": [
    "# mean density of epithelium TIL clusters\n",
    "a = np.array([0.01043970341991342, 0.005651491096491228, 0.007687265042016805, 0.0052038193684210525, 0.007926524178674352, 0.006044975491606715, 0.005562880182481751, 0.018714939051094892, 0.01077288988505747, 0.014244462474747477, 0.008617385323383084, 0.018998691162790696])\n",
    "print(np.median(a))\n",
    "\n",
    "group = []\n",
    "for index in range(0, len(a)):\n",
    "    if a[index] > np.median(a):\n",
    "        group.append(0)\n",
    "    else:\n",
    "        group.append(1)\n",
    "print(group)"
   ]
  },
  {
   "cell_type": "code",
   "execution_count": null,
   "id": "ff6e7745",
   "metadata": {},
   "outputs": [],
   "source": [
    "# mean density of stromal TIL clusters\n",
    "a = np.array([1.0294, 0.46676, 0.40938, 0.370857, 0.10848, 0.173, 0.56415, 0.40635, 0.085159, 0.24625, 0.34216, 0.20178])\n",
    "print(np.median(a))\n",
    "\n",
    "group = []\n",
    "for index in range(0, len(a)):\n",
    "    if a[index] > np.median(a):\n",
    "        group.append(1)\n",
    "    else:\n",
    "        group.append(0)\n",
    "print(group)"
   ]
  },
  {
   "cell_type": "code",
   "execution_count": null,
   "id": "01c5d989",
   "metadata": {},
   "outputs": [],
   "source": [
    "# mean entropy value of CFOD\n",
    "a = np.array([2.1655, 2.1701, 2.1889, 2.1256, 2.101, 2.1882, 2.1116, 2.1441, 2.02, 2.1, 2.144, 2.144])\n",
    "print(np.median(a))\n",
    "\n",
    "group = []\n",
    "for index in range(0, len(a)):\n",
    "    if a[index] > np.median(a)+0.0005:\n",
    "        group.append(1)\n",
    "    else:\n",
    "        group.append(0)\n",
    "print(group)"
   ]
  },
  {
   "cell_type": "code",
   "execution_count": null,
   "id": "847f30f1",
   "metadata": {},
   "outputs": [],
   "source": [
    "# min entropy value of CFOD\n",
    "a = np.array([0.50607, 0.50592, 0.4708, 0.54162, 0.60469, 0.22074, 0.20999, 0.38022, 0.077793, 0.38015, 0.22334, 0.38014])\n",
    "print(np.median(a))\n",
    "\n",
    "group = []\n",
    "for index in range(0, len(a)):\n",
    "    if a[index] > np.median(a)+0.0005:\n",
    "        group.append(1)\n",
    "    else:\n",
    "        group.append(0)\n",
    "print(group)"
   ]
  },
  {
   "cell_type": "code",
   "execution_count": null,
   "id": "1bcad46f",
   "metadata": {},
   "outputs": [],
   "source": [
    "# max entropy value of CFOD\n",
    "a = np.array([2.2961, 2.296, 2.2953, 2.2966, 2.2953, 2.2935, 2.2949, 2.2964, 2.2963, 2.2978, 2.299, 2.3011])\n",
    "print(np.median(a))\n",
    "\n",
    "group = []\n",
    "for index in range(0, len(a)):\n",
    "    if a[index] > np.median(a):\n",
    "        group.append(0)\n",
    "    else:\n",
    "        group.append(1)\n",
    "print(group)"
   ]
  },
  {
   "cell_type": "code",
   "execution_count": null,
   "id": "767cf231",
   "metadata": {},
   "outputs": [],
   "source": [
    "# Survival:\n",
    "\n",
    "# 20-1-40: 16.83333333\n",
    "# 20-1-17: 12.43333333\n",
    "# 20-1-54: 17.8\n",
    "# 20-1-71: 19.86666667\n",
    "# 20-1-104: 42.93333333\n",
    "# 20-1-99: 28.93333333\n",
    "# 20-1-110: 55.1\n",
    "# 20-1-122: 46.56666667\n",
    "# 20-1-46: 52.46666667*\n",
    "# 20-1-48: 50.56666667*\n",
    "# 20-1-29: 42.5*\n",
    "# 20-1-154: 39.86666667*\n",
    "\n",
    "\n",
    "# Post-NACT: TIL Density\n",
    "\n",
    "# 20-1-40: 0.12487407655612177\n",
    "# 20-1-17: 0.12813985560306965\n",
    "# 20-1-54: 0.17261649418512537\n",
    "# 20-1-71: 0.3549163689464846\n",
    "# 20-1-104: 0.3779001371676269\n",
    "# 20-1-99: 0.07452273474178374\n",
    "# 20-1-110: 0.09184162554160173\n",
    "# 20-1-122: 0.26515286816500163\n",
    "# 20-1-46: 0.16810911544980764\n",
    "# 20-1-48: 0.156682984305857914\n",
    "# 20-1-29: 0.11350386002123657\n",
    "# 20-1-154: 0.23359746753168367\n",
    "\n",
    "\n",
    "# Post-NACT: Epithelium TIL Density\n",
    "\n",
    "# 20-1-40: 0.11581518040333589\n",
    "# 20-1-17: 0.132163974793514366\n",
    "# 20-1-54: 0.162797186402386805\n",
    "# 20-1-71: 0.137847361289458065\n",
    "# 20-1-104: 0.149054087611212764\n",
    "# 20-1-99: 0.017005985943177415\n",
    "# 20-1-110: 0.010583068960504831\n",
    "# 20-1-122: 0.111053394577656866\n",
    "# 20-1-46: 0.024572843979919604\n",
    "# 20-1-48: 0.02558589307246577\n",
    "# 20-1-29: 0.009828070606314965\n",
    "# 20-1-154: 0.0327010442126119\n",
    "\n",
    "\n",
    "# Post-NACT: Stromal TIL Density\n",
    "\n",
    "# 20-1-40: 0.312271154563008\n",
    "# 20-1-17: 0.23784009724146532\n",
    "# 20-1-54: 0.35592452239128025\n",
    "# 20-1-71: 0.41865083481437076\n",
    "# 20-1-104: 0.31848810601452143\n",
    "# 20-1-99: 0.32473502113183966\n",
    "# 20-1-110: 0.24351496930909403\n",
    "# 20-1-122: 0.22043995318365944\n",
    "# 20-1-46: 0.06520486229371285\n",
    "# 20-1-48: 0.10756784738909106\n",
    "# 20-1-29: 0.4054834395959824\n",
    "# 20-1-154: 0.3533646618088358\n",
    "\n",
    "\n",
    "# Post-NACT: Mean Collagen Disorder\n",
    "\n",
    "# 20-1-40: 2.1655\n",
    "# 20-1-17: 2.1701\n",
    "# 20-1-54: 2.1889\n",
    "# 20-1-71: 2.1256\n",
    "# 20-1-104: 2.101\n",
    "# 20-1-99: 2.1882\n",
    "# 20-1-110: 2.1116\n",
    "# 20-1-122: 2.1641\n",
    "# 20-1-46: 2.02\n",
    "# 20-1-48: 1.937\n",
    "# 20-1-29: 2.174\n",
    "# 20-1-154: 2.1645\n",
    "\n",
    "\n",
    "# Post-NACT: Min Collagen Disorder\n",
    "\n",
    "# 20-1-40: 0.42607\n",
    "# 20-1-17: 0.42592\n",
    "# 20-1-54: 0.4708\n",
    "# 20-1-71: 0.44162\n",
    "# 20-1-104: 0.40469\n",
    "# 20-1-99: 0.22074\n",
    "# 20-1-110: 0.20999\n",
    "# 20-1-122: 0.48022\n",
    "# 20-1-46: 0.077793\n",
    "# 20-1-48: 0.39145\n",
    "# 20-1-29: 0.22334\n",
    "# 20-1-154: 0.50494\n",
    "\n",
    "\n",
    "# Post-NACT: Max Collagen Disorder\n",
    "\n",
    "# 20-1-40: 2.2961\n",
    "# 20-1-17: 2.2968\n",
    "# 20-1-54: 2.2953\n",
    "# 20-1-71: 2.2964\n",
    "# 20-1-104: 2.2953\n",
    "# 20-1-99: 2.2935\n",
    "# 20-1-110: 2.2949\n",
    "# 20-1-122: 2.2964\n",
    "# 20-1-46: 2.2943\n",
    "# 20-1-48: 2.2978\n",
    "# 20-1-29: 2.299\n",
    "# 20-1-154: 2.3011\n",
    "\n",
    "\n",
    "# Post-NACT: Range Collagen Disorder\n",
    "\n",
    "# 20-1-40: 1.87\n",
    "# 20-1-17: 1.8709\n",
    "# 20-1-54: 1.8245\n",
    "# 20-1-71: 1.7548\n",
    "# 20-1-104: 1.8906\n",
    "# 20-1-99: 2.0728\n",
    "# 20-1-110: 1.8849\n",
    "# 20-1-122: 1.8161\n",
    "# 20-1-46: 2.2165\n",
    "# 20-1-48: 1.9063\n",
    "# 20-1-29: 2.0757\n",
    "# 20-1-154: 1.7961"
   ]
  },
  {
   "cell_type": "code",
   "execution_count": null,
   "id": "a039bbcd",
   "metadata": {},
   "outputs": [],
   "source": [
    "# 20-1-40: 61\n",
    "# 20-1-17: 61\n",
    "# 20-1-54: 71\n",
    "# 20-1-71: 75\n",
    "# 20-1-104: 47\n",
    "# 20-1-99: 77\n",
    "# 20-1-110: 67\n",
    "# 20-1-122: 80\n",
    "# 20-1-46: 67\n",
    "# 20-1-48: 58\n",
    "# 20-1-29: 59\n",
    "# 20-1-154: 73"
   ]
  },
  {
   "cell_type": "code",
   "execution_count": null,
   "id": "78918866",
   "metadata": {},
   "outputs": [],
   "source": [
    "# 20-1-40: 3\n",
    "# 20-1-17: 4\n",
    "# 20-1-54: 3\n",
    "# 20-1-71: 3\n",
    "# 20-1-104: 4\n",
    "# 20-1-99: 3\n",
    "# 20-1-110: 3\n",
    "# 20-1-122: 3\n",
    "# 20-1-46: 3\n",
    "# 20-1-48: 3\n",
    "# 20-1-29: 3\n",
    "# 20-1-154: 3"
   ]
  },
  {
   "cell_type": "code",
   "execution_count": null,
   "id": "929a3a29",
   "metadata": {},
   "outputs": [],
   "source": [
    "print(np.percentile([61, 61, 71, 75, 47, 77, 67, 80, 67, 58, 59, 73], 75))"
   ]
  },
  {
   "cell_type": "code",
   "execution_count": null,
   "id": "7378c345",
   "metadata": {},
   "outputs": [],
   "source": [
    "print(11/12)"
   ]
  },
  {
   "cell_type": "code",
   "execution_count": 18,
   "id": "a223a7af",
   "metadata": {},
   "outputs": [
    {
     "data": {
      "text/plain": [
       "Text(0.4, 0.95, 'p=0.00252')"
      ]
     },
     "execution_count": 18,
     "metadata": {},
     "output_type": "execute_result"
    },
    {
     "data": {
      "image/png": "[encoded data removed]",
      "text/plain": [
       "<Figure size 360x360 with 1 Axes>"
      ]
     },
     "metadata": {
      "needs_background": "light"
     },
     "output_type": "display_data"
    }
   ],
   "source": [
    "import numpy as np\n",
    "import seaborn as sns\n",
    "import matplotlib.pyplot as plt\n",
    "import pandas as pd\n",
    "plt.rcParams.update({'font.family': 'sans serif'})\n",
    "plt.rcParams.update({'font.size': 12})\n",
    "plt.rcParams['figure.figsize'] = [5, 5]\n",
    "plt.ylabel(\"Mean density of epithelium TIL clusters\")\n",
    "\n",
    "group_a_x = ['Pre-NACT','Pre-NACT','Pre-NACT','Pre-NACT','Pre-NACT','Pre-NACT','Pre-NACT','Pre-NACT','Pre-NACT','Pre-NACT','Pre-NACT','Pre-NACT']\n",
    "group_a_y = [0.001, 0.002, 0.002, 0.002, 0.003, 0.0035, 0.0035, 0.005, 0.006, 0.0065, 0.007, 0.02]\n",
    "plt.scatter(group_a_x, group_a_y)\n",
    "\n",
    "group_b_x = ['Post-NACT','Post-NACT','Post-NACT','Post-NACT','Post-NACT','Post-NACT','Post-NACT','Post-NACT','Post-NACT','Post-NACT','Post-NACT','Post-NACT']\n",
    "group_b_y = [0.01043970341991342, 0.005651491096491228, 0.007687265042016805, 0.0052038193684210525, 0.007926524178674352, 0.006044975491606715, 0.005562880182481751, 0.018714939051094892, 0.01077288988505747, 0.014244462474747477, 0.008617385323383084, 0.018998691162790696]\n",
    "plt.scatter(group_b_x, group_b_y)\n",
    "\n",
    "for index in range(0, len(group_a_y)):\n",
    "    plt.plot([group_a_y[index], group_b_y[index]], color='black')\n",
    "plt.tight_layout()\n",
    "\n",
    "plt.text(0.4,\n",
    "         0.95,\n",
    "         \"p=0.00252\",\n",
    "         transform=plt.gca().transAxes)"
   ]
  },
  {
   "cell_type": "code",
   "execution_count": 30,
   "id": "25c2b01f",
   "metadata": {},
   "outputs": [
    {
     "data": {
      "text/plain": [
       "Text(0.4, 0.95, 'p=0.00021')"
      ]
     },
     "execution_count": 30,
     "metadata": {},
     "output_type": "execute_result"
    },
    {
     "data": {
      "image/png": "[encoded data removed]",
      "text/plain": [
       "<Figure size 360x360 with 1 Axes>"
      ]
     },
     "metadata": {
      "needs_background": "light"
     },
     "output_type": "display_data"
    }
   ],
   "source": [
    "import numpy as np\n",
    "import seaborn as sns\n",
    "import matplotlib.pyplot as plt\n",
    "import pandas as pd\n",
    "plt.rcParams.update({'font.family': 'sans serif'})\n",
    "plt.rcParams.update({'font.size': 12})\n",
    "plt.rcParams['figure.figsize'] = [5, 5]\n",
    "plt.ylabel(\"Maximum value of CFOD\")\n",
    "\n",
    "group_a_x = ['Pre-NACT','Pre-NACT','Pre-NACT','Pre-NACT','Pre-NACT','Pre-NACT','Pre-NACT','Pre-NACT','Pre-NACT','Pre-NACT','Pre-NACT','Pre-NACT']\n",
    "group_a_y = [2.2922, 2.2954, 2.2949, 2.2938, 2.2885, 2.2892, 2.285, 2.2884, 2.2892, 2.2882, 2.285, 2.2958]\n",
    "plt.scatter(group_a_x, group_a_y)\n",
    "\n",
    "group_b_x = ['Post-NACT','Post-NACT','Post-NACT','Post-NACT','Post-NACT','Post-NACT','Post-NACT','Post-NACT','Post-NACT','Post-NACT','Post-NACT','Post-NACT']\n",
    "group_b_y = [2.2961, 2.296, 2.2953, 2.2966, 2.2953, 2.2935, 2.2949, 2.2964, 2.2963, 2.2978, 2.299, 2.3011]\n",
    "plt.scatter(group_b_x, group_b_y)\n",
    "\n",
    "for index in range(0, len(group_a_y)):\n",
    "    plt.plot([group_a_y[index], group_b_y[index]], color='black')\n",
    "plt.tight_layout()\n",
    "\n",
    "plt.text(0.4,\n",
    "         0.95,\n",
    "         \"p=0.00021\",\n",
    "         transform=plt.gca().transAxes)"
   ]
  },
  {
   "cell_type": "code",
   "execution_count": null,
   "id": "84d9163d",
   "metadata": {},
   "outputs": [],
   "source": []
  },
  {
   "cell_type": "code",
   "execution_count": null,
   "id": "691582fc",
   "metadata": {},
   "outputs": [],
   "source": []
  },
  {
   "cell_type": "code",
   "execution_count": null,
   "id": "85aac154",
   "metadata": {},
   "outputs": [],
   "source": []
  },
  {
   "cell_type": "code",
   "execution_count": null,
   "id": "5ea1f109",
   "metadata": {},
   "outputs": [],
   "source": []
  },
  {
   "cell_type": "code",
   "execution_count": null,
   "id": "4e03e523",
   "metadata": {},
   "outputs": [],
   "source": []
  },
  {
   "cell_type": "code",
   "execution_count": null,
   "id": "5c34b441",
   "metadata": {},
   "outputs": [],
   "source": [
    "# TIL density"
   ]
  },
  {
   "cell_type": "code",
   "execution_count": 3,
   "id": "6fccc695",
   "metadata": {},
   "outputs": [
    {
     "name": "stdout",
     "output_type": "stream",
     "text": [
      "[0.0384804021952352, 0.10608754885108443, 0.10579123034241895, 0.12287838739302048, 0.3042560959909727, 0.058638809366318635, 0.01170063433258748, 0.21179875447101332, 0.09483907343942001, 0.19038042864873278, 0.061699237974331175, 0.0586521518391391]\n"
     ]
    }
   ],
   "source": [
    "group_a = [0.0384804021952352, 0.10608754885108443, 0.10579123034241896, 0.12287838739302048, 0.3042560959909727, 0.058638809366318635, 0.01170063433258748, 0.21179875447101332, 0.09483907343942001, 0.19038042864873279, 0.061699237974331175, 0.0586521518391391]\n",
    "print(group_a)"
   ]
  },
  {
   "cell_type": "code",
   "execution_count": 4,
   "id": "9aca1831",
   "metadata": {},
   "outputs": [
    {
     "name": "stdout",
     "output_type": "stream",
     "text": [
      "[0.12487407655612177, 0.12813985560306965, 0.15261649418512538, 0.1549163689464846, 0.3779001371676269, 0.07452273474178374, 0.09184162554160173, 0.2651528681650016, 0.16810911544980764, 0.35668298430585793, 0.11350386002123657, 0.23359746753168367]\n"
     ]
    }
   ],
   "source": [
    "group_b = [0.12487407655612177, 0.12813985560306965, 0.15261649418512537, 0.1549163689464846, 0.3779001371676269, 0.07452273474178374, 0.09184162554160173, 0.26515286816500163, 0.16810911544980764, 0.356682984305857914, 0.11350386002123657, 0.23359746753168367]\n",
    "print(group_b)"
   ]
  },
  {
   "cell_type": "code",
   "execution_count": 5,
   "id": "8c39015e",
   "metadata": {},
   "outputs": [
    {
     "name": "stdout",
     "output_type": "stream",
     "text": [
      "0.01754455804702393\n"
     ]
    }
   ],
   "source": [
    "from scipy.stats import mannwhitneyu\n",
    "statistic, p_value = mannwhitneyu(group_a, group_b)\n",
    "print(p_value)"
   ]
  },
  {
   "cell_type": "code",
   "execution_count": null,
   "id": "2663659d",
   "metadata": {},
   "outputs": [],
   "source": []
  },
  {
   "cell_type": "code",
   "execution_count": null,
   "id": "b0d03287",
   "metadata": {},
   "outputs": [],
   "source": [
    "# Mean density of epithelium TIL clusters"
   ]
  },
  {
   "cell_type": "code",
   "execution_count": 9,
   "id": "1c6137a1",
   "metadata": {},
   "outputs": [
    {
     "name": "stdout",
     "output_type": "stream",
     "text": [
      "[0.001, 0.002, 0.002, 0.002, 0.003, 0.0035, 0.0035, 0.005, 0.006, 0.0065, 0.007, 0.02]\n"
     ]
    }
   ],
   "source": [
    "group_a = [0.001, 0.002, 0.002, 0.002, 0.003, 0.0035, 0.0035, 0.005, 0.006, 0.0065, 0.007, 0.02]\n",
    "print(group_a)"
   ]
  },
  {
   "cell_type": "code",
   "execution_count": 10,
   "id": "852f849e",
   "metadata": {},
   "outputs": [
    {
     "name": "stdout",
     "output_type": "stream",
     "text": [
      "[0.01043970341991342, 0.005651491096491228, 0.007687265042016805, 0.0052038193684210525, 0.007926524178674352, 0.006044975491606715, 0.005562880182481751, 0.018714939051094892, 0.01077288988505747, 0.014244462474747477, 0.008617385323383084, 0.018998691162790696]\n"
     ]
    }
   ],
   "source": [
    "group_b = [0.01043970341991342, 0.005651491096491228, 0.007687265042016805, 0.0052038193684210525, 0.007926524178674352, 0.006044975491606715, 0.005562880182481751, 0.018714939051094892, 0.01077288988505747, 0.014244462474747477, 0.008617385323383084, 0.018998691162790696]\n",
    "print(group_b)"
   ]
  },
  {
   "cell_type": "code",
   "execution_count": 11,
   "id": "1bb7f4cf",
   "metadata": {},
   "outputs": [
    {
     "name": "stdout",
     "output_type": "stream",
     "text": [
      "0.002529934328956604\n"
     ]
    }
   ],
   "source": [
    "from scipy.stats import mannwhitneyu\n",
    "statistic, p_value = mannwhitneyu(group_a, group_b)\n",
    "print(p_value)"
   ]
  },
  {
   "cell_type": "code",
   "execution_count": null,
   "id": "ff9db324",
   "metadata": {},
   "outputs": [],
   "source": []
  },
  {
   "cell_type": "code",
   "execution_count": null,
   "id": "aa37c4ce",
   "metadata": {},
   "outputs": [],
   "source": [
    "# Mean density of stromal TIL clusters"
   ]
  },
  {
   "cell_type": "code",
   "execution_count": 13,
   "id": "aae09d60",
   "metadata": {},
   "outputs": [
    {
     "name": "stdout",
     "output_type": "stream",
     "text": [
      "[0.059304, 0.3447, 0.011498, 0.26291, 0.0034967, 0.069137, 0.03587, 0.028887, 0.007042, 0.10945, 0.037858, 0.10108]\n"
     ]
    }
   ],
   "source": [
    "group_b = [0.059304, 0.3447, 0.011498, 0.26291, 0.0034967, 0.069137, 0.03587, 0.028887, 0.007042, 0.10945, 0.037858, 0.10108]\n",
    "print(group_b)"
   ]
  },
  {
   "cell_type": "code",
   "execution_count": 14,
   "id": "ac697d9d",
   "metadata": {},
   "outputs": [
    {
     "name": "stdout",
     "output_type": "stream",
     "text": [
      "[1.0294, 0.46676, 0.40938, 0.370857, 0.10848, 0.173, 0.56415, 0.40635, 0.085159, 0.24625, 0.34216, 0.20178]\n"
     ]
    }
   ],
   "source": [
    "group_a = [1.0294, 0.46676, 0.40938, 0.370857, 0.10848, 0.173, 0.56415, 0.40635, 0.085159, 0.24625, 0.34216, 0.20178]\n",
    "print(group_a)"
   ]
  },
  {
   "cell_type": "code",
   "execution_count": 15,
   "id": "5e317ddd",
   "metadata": {},
   "outputs": [
    {
     "name": "stdout",
     "output_type": "stream",
     "text": [
      "0.0004504677981800084\n"
     ]
    }
   ],
   "source": [
    "from scipy.stats import mannwhitneyu\n",
    "statistic, p_value = mannwhitneyu(group_a, group_b)\n",
    "print(p_value)"
   ]
  },
  {
   "cell_type": "code",
   "execution_count": null,
   "id": "fc3582d6",
   "metadata": {},
   "outputs": [],
   "source": []
  },
  {
   "cell_type": "code",
   "execution_count": null,
   "id": "c2ade102",
   "metadata": {},
   "outputs": [],
   "source": [
    "# Mean value of CFOD"
   ]
  },
  {
   "cell_type": "code",
   "execution_count": 19,
   "id": "3b504d75",
   "metadata": {},
   "outputs": [
    {
     "name": "stdout",
     "output_type": "stream",
     "text": [
      "[2.06, 2.0451, 2.1788, 2.1055, 2.0962, 2.0099, 2.01, 2.1156, 2.019, 2.0767, 2.069, 2.0803]\n"
     ]
    }
   ],
   "source": [
    "group_a = [2.06, 2.0451, 2.1788, 2.1055, 2.0962, 2.0099, 2.01, 2.1156, 2.019, 2.0767, 2.069, 2.0803]\n",
    "print(group_a)"
   ]
  },
  {
   "cell_type": "code",
   "execution_count": 20,
   "id": "5a518ccc",
   "metadata": {},
   "outputs": [
    {
     "name": "stdout",
     "output_type": "stream",
     "text": [
      "[2.1655, 2.1701, 2.1889, 2.1256, 2.101, 2.1882, 2.1116, 2.1441, 2.02, 2.1, 2.144, 2.144]\n"
     ]
    }
   ],
   "source": [
    "group_b = [2.1655, 2.1701, 2.1889, 2.1256, 2.101, 2.1882, 2.1116, 2.1441, 2.02, 2.1, 2.144, 2.144]\n",
    "print(group_b)"
   ]
  },
  {
   "cell_type": "code",
   "execution_count": 21,
   "id": "6e6630e4",
   "metadata": {},
   "outputs": [
    {
     "name": "stdout",
     "output_type": "stream",
     "text": [
      "0.002549138897035596\n"
     ]
    }
   ],
   "source": [
    "from scipy.stats import mannwhitneyu\n",
    "statistic, p_value = mannwhitneyu(group_a, group_b)\n",
    "print(p_value)"
   ]
  },
  {
   "cell_type": "code",
   "execution_count": null,
   "id": "671ee0c3",
   "metadata": {},
   "outputs": [],
   "source": []
  },
  {
   "cell_type": "code",
   "execution_count": null,
   "id": "563eb12b",
   "metadata": {},
   "outputs": [],
   "source": [
    "# Min value of CFOD"
   ]
  },
  {
   "cell_type": "code",
   "execution_count": 23,
   "id": "d21dcde3",
   "metadata": {},
   "outputs": [
    {
     "name": "stdout",
     "output_type": "stream",
     "text": [
      "[0.52081, 0.56587, 0.88385, 0.62942, 0.68302, 0.33073, 0.32, 0.6736, 0.63955, 0.83771, 0.8897, 0.58926]\n"
     ]
    }
   ],
   "source": [
    "group_a_min = [0.52081, 0.56587, 0.88385, 0.62942, 0.68302, 0.33073, 0.32, 0.6736, 0.63955, 0.83771, 0.8897, 0.58926]\n",
    "print(group_a_min)"
   ]
  },
  {
   "cell_type": "code",
   "execution_count": 24,
   "id": "dae3fecc",
   "metadata": {},
   "outputs": [
    {
     "name": "stdout",
     "output_type": "stream",
     "text": [
      "[0.50607, 0.50592, 0.4708, 0.54162, 0.60469, 0.22074, 0.20999, 0.38022, 0.077793, 0.38015, 0.22334, 0.38014]\n"
     ]
    }
   ],
   "source": [
    "group_b_min = [0.50607, 0.50592, 0.4708, 0.54162, 0.60469, 0.22074, 0.20999, 0.38022, 0.077793, 0.38015, 0.22334, 0.38014]\n",
    "print(group_b_min)"
   ]
  },
  {
   "cell_type": "code",
   "execution_count": 25,
   "id": "11cf1e08",
   "metadata": {},
   "outputs": [
    {
     "name": "stdout",
     "output_type": "stream",
     "text": [
      "0.0014728230752664906\n"
     ]
    }
   ],
   "source": [
    "from scipy.stats import mannwhitneyu\n",
    "statistic, p_value = mannwhitneyu(group_a_min, group_b_min)\n",
    "print(p_value)"
   ]
  },
  {
   "cell_type": "code",
   "execution_count": null,
   "id": "cc13a1cc",
   "metadata": {},
   "outputs": [],
   "source": []
  },
  {
   "cell_type": "code",
   "execution_count": null,
   "id": "8b05d821",
   "metadata": {},
   "outputs": [],
   "source": [
    "# Max value of CFOD"
   ]
  },
  {
   "cell_type": "code",
   "execution_count": 27,
   "id": "8a1ff071",
   "metadata": {},
   "outputs": [
    {
     "name": "stdout",
     "output_type": "stream",
     "text": [
      "[2.2922, 2.2954, 2.2949, 2.2938, 2.2885, 2.2892, 2.285, 2.2884, 2.2892, 2.2882, 2.285, 2.2958]\n"
     ]
    }
   ],
   "source": [
    "group_a_max = [2.2922, 2.2954, 2.2949, 2.2938, 2.2885, 2.2892, 2.285, 2.2884, 2.2892, 2.2882, 2.285, 2.2958]\n",
    "print(group_a_max)"
   ]
  },
  {
   "cell_type": "code",
   "execution_count": 28,
   "id": "dcf99b02",
   "metadata": {},
   "outputs": [
    {
     "name": "stdout",
     "output_type": "stream",
     "text": [
      "[2.2961, 2.296, 2.2953, 2.2966, 2.2953, 2.2935, 2.2949, 2.2964, 2.2963, 2.2978, 2.299, 2.3011]\n"
     ]
    }
   ],
   "source": [
    "group_b_max = [2.2961, 2.296, 2.2953, 2.2966, 2.2953, 2.2935, 2.2949, 2.2964, 2.2963, 2.2978, 2.299, 2.3011]\n",
    "print(group_b_max)"
   ]
  },
  {
   "cell_type": "code",
   "execution_count": 29,
   "id": "d8d5fcd6",
   "metadata": {},
   "outputs": [
    {
     "name": "stdout",
     "output_type": "stream",
     "text": [
      "0.00021181885570458763\n"
     ]
    }
   ],
   "source": [
    "from scipy.stats import mannwhitneyu\n",
    "statistic, p_value = mannwhitneyu(group_a_max, group_b_max)\n",
    "print(p_value)"
   ]
  },
  {
   "cell_type": "code",
   "execution_count": null,
   "id": "269fe2a1",
   "metadata": {},
   "outputs": [],
   "source": []
  },
  {
   "cell_type": "code",
   "execution_count": null,
   "id": "11d3d2b4",
   "metadata": {},
   "outputs": [],
   "source": [
    "# Range value of CFOD"
   ]
  },
  {
   "cell_type": "code",
   "execution_count": null,
   "id": "a55ab271",
   "metadata": {},
   "outputs": [],
   "source": [
    "group_a_range = np.array(group_a_max)-np.array(group_a_min)\n",
    "print(group_a_range)"
   ]
  },
  {
   "cell_type": "code",
   "execution_count": null,
   "id": "1ce78bd8",
   "metadata": {},
   "outputs": [],
   "source": [
    "group_b_range = np.array(group_b_max)-np.array(group_b_min)\n",
    "print(group_b_range)"
   ]
  },
  {
   "cell_type": "code",
   "execution_count": null,
   "id": "62b2537c",
   "metadata": {},
   "outputs": [],
   "source": [
    "from scipy.stats import mannwhitneyu\n",
    "statistic, p_value = mannwhitneyu(group_a_range, group_b_range)\n",
    "print(p_value)"
   ]
  },
  {
   "cell_type": "code",
   "execution_count": null,
   "id": "cd92c4d1",
   "metadata": {},
   "outputs": [],
   "source": []
  },
  {
   "cell_type": "code",
   "execution_count": null,
   "id": "dd688ada",
   "metadata": {},
   "outputs": [],
   "source": [
    "import plotly.graph_objects as go\n",
    "import plotly.offline as pyo\n",
    "import numpy as np\n",
    "\n",
    "\n",
    "genre = ['Patient 1', 'Patient 2', 'Patient 3', 'Patient 4', 'Patient 5', 'Patient 6', 'Patient 7', 'Patient 8', 'Patient 9', 'Patient 10', 'Patient 11', 'Patient 12']\n",
    "c_1 = [0.0384804021952352, 0.10608754885108443, 0.10579123034241896, 0.12287838739302048, 0.3042560959909727, 0.058638809366318635, 0.01170063433258748, 0.21179875447101332, 0.09483907343942001, 0.19038042864873279, 0.061699237974331175, 0.0586521518391391]\n",
    "c_2 = [0.12487407655612177, 0.12813985560306965, 0.15261649418512537, 0.1549163689464846, 0.3779001371676269, 0.07452273474178374, 0.09184162554160173, 0.26515286816500163, 0.16810911544980764, 0.356682984305857914, 0.11350386002123657, 0.23359746753168367]\n",
    "\n",
    "\n",
    "fig = go.Figure(\n",
    "    layout=go.Layout(\n",
    "        #xaxis=dict(range=[2.27,2.30]),\n",
    "        title=go.layout.Title(text='TIL density (p=0.01754)'),\n",
    "        polar={'radialaxis': {'visible': True}},\n",
    "        showlegend=True,\n",
    "    ),\n",
    "    data=[\n",
    "        go.Scatterpolar(r=np.array(c_1), theta=genre, fill='toself', name='Pre-NACT'),\n",
    "        go.Scatterpolar(r=np.array(c_2), theta=genre, fill='toself', name='Post-NACT'),\n",
    "    ],\n",
    "    \n",
    ")\n",
    "pyo.plot(fig)"
   ]
  },
  {
   "cell_type": "code",
   "execution_count": null,
   "id": "e1b06330",
   "metadata": {},
   "outputs": [],
   "source": []
  }
 ],
 "metadata": {
  "kernelspec": {
   "display_name": "Python 3",
   "language": "python",
   "name": "python3"
  },
  "language_info": {
   "codemirror_mode": {
    "name": "ipython",
    "version": 3
   },
   "file_extension": ".py",
   "mimetype": "text/x-python",
   "name": "python",
   "nbconvert_exporter": "python",
   "pygments_lexer": "ipython3",
   "version": "3.8.8"
  }
 },
 "nbformat": 4,
 "nbformat_minor": 5
}
